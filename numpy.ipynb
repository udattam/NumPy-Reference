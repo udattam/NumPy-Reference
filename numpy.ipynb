{
 "cells": [
  {
   "cell_type": "markdown",
   "metadata": {},
   "source": [
    "# NumPy Reference"
   ]
  },
  {
   "cell_type": "code",
   "execution_count": 1,
   "metadata": {},
   "outputs": [],
   "source": [
    "import numpy as np"
   ]
  },
  {
   "cell_type": "code",
   "execution_count": 2,
   "metadata": {},
   "outputs": [
    {
     "output_type": "execute_result",
     "data": {
      "text/plain": "'1.18.3'"
     },
     "metadata": {},
     "execution_count": 2
    }
   ],
   "source": [
    "np.__version__"
   ]
  },
  {
   "cell_type": "code",
   "execution_count": 3,
   "metadata": {},
   "outputs": [],
   "source": [
    "a=np.array([1,2,3],dtype='int16')"
   ]
  },
  {
   "cell_type": "code",
   "execution_count": 4,
   "metadata": {},
   "outputs": [
    {
     "output_type": "execute_result",
     "data": {
      "text/plain": "array([1, 2, 3], dtype=int16)"
     },
     "metadata": {},
     "execution_count": 4
    }
   ],
   "source": [
    "a"
   ]
  },
  {
   "cell_type": "code",
   "execution_count": 5,
   "metadata": {},
   "outputs": [],
   "source": [
    "b=np.array([[9.0,8.0,7.0,6.0],[5.0,4.0,3.0,2.0]])"
   ]
  },
  {
   "cell_type": "code",
   "execution_count": 6,
   "metadata": {},
   "outputs": [
    {
     "output_type": "execute_result",
     "data": {
      "text/plain": "array([[9., 8., 7., 6.],\n       [5., 4., 3., 2.]])"
     },
     "metadata": {},
     "execution_count": 6
    }
   ],
   "source": [
    "b"
   ]
  },
  {
   "cell_type": "code",
   "execution_count": 7,
   "metadata": {},
   "outputs": [
    {
     "output_type": "stream",
     "name": "stdout",
     "text": "<class 'numpy.ndarray'>\n<class 'numpy.ndarray'>\n"
    }
   ],
   "source": [
    "print(type(a))\n",
    "print(type(b))"
   ]
  },
  {
   "cell_type": "code",
   "execution_count": 8,
   "metadata": {},
   "outputs": [
    {
     "output_type": "execute_result",
     "data": {
      "text/plain": "2"
     },
     "metadata": {},
     "execution_count": 8
    }
   ],
   "source": [
    "b.ndim"
   ]
  },
  {
   "cell_type": "code",
   "execution_count": 9,
   "metadata": {},
   "outputs": [
    {
     "output_type": "execute_result",
     "data": {
      "text/plain": "(2, 4)"
     },
     "metadata": {},
     "execution_count": 9
    }
   ],
   "source": [
    "#Get Shape\n",
    "b.shape"
   ]
  },
  {
   "cell_type": "code",
   "execution_count": 10,
   "metadata": {},
   "outputs": [
    {
     "output_type": "execute_result",
     "data": {
      "text/plain": "dtype('int16')"
     },
     "metadata": {},
     "execution_count": 10
    }
   ],
   "source": [
    "#Get type\n",
    "a.dtype"
   ]
  },
  {
   "cell_type": "code",
   "execution_count": 11,
   "metadata": {},
   "outputs": [
    {
     "output_type": "stream",
     "name": "stdout",
     "text": "2\n"
    },
    {
     "output_type": "execute_result",
     "data": {
      "text/plain": "8"
     },
     "metadata": {},
     "execution_count": 11
    }
   ],
   "source": [
    "#Get Size\n",
    "print(a.itemsize)\n",
    "b.itemsize\n"
   ]
  },
  {
   "cell_type": "code",
   "execution_count": 12,
   "metadata": {},
   "outputs": [
    {
     "output_type": "stream",
     "name": "stdout",
     "text": "6\n6\n64\n"
    }
   ],
   "source": [
    "#Get total size\n",
    "print(a.size*a.itemsize)\n",
    "print(a.nbytes)\n",
    "print(b.nbytes)"
   ]
  },
  {
   "cell_type": "markdown",
   "metadata": {},
   "source": [
    "# Accessing, Changing specific elements, rows, columns, etc."
   ]
  },
  {
   "cell_type": "code",
   "execution_count": 13,
   "metadata": {},
   "outputs": [],
   "source": [
    "a=np.array([[1,2,3,4,5,6,7],[8,9,10,11,12,13,14]])"
   ]
  },
  {
   "cell_type": "code",
   "execution_count": 14,
   "metadata": {},
   "outputs": [
    {
     "output_type": "execute_result",
     "data": {
      "text/plain": "array([[ 1,  2,  3,  4,  5,  6,  7],\n       [ 8,  9, 10, 11, 12, 13, 14]])"
     },
     "metadata": {},
     "execution_count": 14
    }
   ],
   "source": [
    "a"
   ]
  },
  {
   "cell_type": "code",
   "execution_count": 15,
   "metadata": {},
   "outputs": [
    {
     "output_type": "execute_result",
     "data": {
      "text/plain": "(2, 7)"
     },
     "metadata": {},
     "execution_count": 15
    }
   ],
   "source": [
    "a.shape"
   ]
  },
  {
   "cell_type": "code",
   "execution_count": 16,
   "metadata": {},
   "outputs": [
    {
     "output_type": "execute_result",
     "data": {
      "text/plain": "13"
     },
     "metadata": {},
     "execution_count": 16
    }
   ],
   "source": [
    "#Get a specific element [r,c]\n",
    "a[1,5]"
   ]
  },
  {
   "cell_type": "code",
   "execution_count": 17,
   "metadata": {},
   "outputs": [
    {
     "output_type": "execute_result",
     "data": {
      "text/plain": "13"
     },
     "metadata": {},
     "execution_count": 17
    }
   ],
   "source": [
    "a[1,-2]"
   ]
  },
  {
   "cell_type": "code",
   "execution_count": 18,
   "metadata": {},
   "outputs": [
    {
     "output_type": "execute_result",
     "data": {
      "text/plain": "array([1, 2, 3, 4, 5, 6, 7])"
     },
     "metadata": {},
     "execution_count": 18
    }
   ],
   "source": [
    "#Get a specific row\n",
    "a[0,:]"
   ]
  },
  {
   "cell_type": "code",
   "execution_count": 19,
   "metadata": {},
   "outputs": [
    {
     "output_type": "execute_result",
     "data": {
      "text/plain": "array([ 3, 10])"
     },
     "metadata": {},
     "execution_count": 19
    }
   ],
   "source": [
    "a[:,2]"
   ]
  },
  {
   "cell_type": "code",
   "execution_count": 20,
   "metadata": {},
   "outputs": [
    {
     "output_type": "execute_result",
     "data": {
      "text/plain": "array([2, 4, 6])"
     },
     "metadata": {},
     "execution_count": 20
    }
   ],
   "source": [
    "#Getting a little more fancy [startindex:endindex:stepsize]\n",
    "a[0,1:6:2]"
   ]
  },
  {
   "cell_type": "code",
   "execution_count": 21,
   "metadata": {},
   "outputs": [
    {
     "output_type": "execute_result",
     "data": {
      "text/plain": "array([[ 1,  2,  3,  4,  5,  6,  7],\n       [ 8,  9, 10, 11, 12, 20, 14]])"
     },
     "metadata": {},
     "execution_count": 21
    }
   ],
   "source": [
    "a[1,5]=20\n",
    "a"
   ]
  },
  {
   "cell_type": "code",
   "execution_count": 22,
   "metadata": {},
   "outputs": [
    {
     "output_type": "execute_result",
     "data": {
      "text/plain": "array([[ 1,  2,  5,  4,  5,  6,  7],\n       [ 8,  9,  5, 11, 12, 20, 14]])"
     },
     "metadata": {},
     "execution_count": 22
    }
   ],
   "source": [
    "a[:,2]=5\n",
    "a"
   ]
  },
  {
   "cell_type": "markdown",
   "metadata": {},
   "source": [
    "### 3-D exapmle"
   ]
  },
  {
   "cell_type": "code",
   "execution_count": 23,
   "metadata": {},
   "outputs": [
    {
     "output_type": "stream",
     "name": "stdout",
     "text": "[[[1 2]\n  [3 4]]\n\n [[5 6]\n  [7 8]]]\n"
    }
   ],
   "source": [
    "c=np.array([[[1,2],[3,4]],[[5,6],[7,8]]])\n",
    "print(c)"
   ]
  },
  {
   "cell_type": "code",
   "execution_count": 24,
   "metadata": {},
   "outputs": [
    {
     "output_type": "execute_result",
     "data": {
      "text/plain": "4"
     },
     "metadata": {},
     "execution_count": 24
    }
   ],
   "source": [
    "#Get specific element (work outside in)\n",
    "c[0,1,1]\n",
    " # 1st set, then another array with 2 rows 2 columns. We are going to the second row,second column of the first array"
   ]
  },
  {
   "cell_type": "markdown",
   "metadata": {},
   "source": [
    "# Initializing Different types of Arrays"
   ]
  },
  {
   "cell_type": "code",
   "execution_count": 25,
   "metadata": {},
   "outputs": [
    {
     "output_type": "stream",
     "name": "stdout",
     "text": "[0. 0. 0. 0. 0. 0. 0. 0. 0. 0.]\n"
    },
    {
     "output_type": "execute_result",
     "data": {
      "text/plain": "array([[[[0., 0.],\n         [0., 0.]],\n\n        [[0., 0.],\n         [0., 0.]]],\n\n\n       [[[0., 0.],\n         [0., 0.]],\n\n        [[0., 0.],\n         [0., 0.]]]])"
     },
     "metadata": {},
     "execution_count": 25
    }
   ],
   "source": [
    "#All 0's matrix\n",
    "print(np.zeros(10))\n",
    "np.zeros((2,2,2,2))"
   ]
  },
  {
   "cell_type": "code",
   "execution_count": 26,
   "metadata": {},
   "outputs": [
    {
     "output_type": "execute_result",
     "data": {
      "text/plain": "array([[[1, 1],\n        [1, 1]],\n\n       [[1, 1],\n        [1, 1]],\n\n       [[1, 1],\n        [1, 1]],\n\n       [[1, 1],\n        [1, 1]]])"
     },
     "metadata": {},
     "execution_count": 26
    }
   ],
   "source": [
    "#All 1's matrix\n",
    "np.ones((4,2,2),dtype='int32')"
   ]
  },
  {
   "cell_type": "code",
   "execution_count": 27,
   "metadata": {},
   "outputs": [
    {
     "output_type": "execute_result",
     "data": {
      "text/plain": "array([[[553., 553.],\n        [553., 553.],\n        [553., 553.]],\n\n       [[553., 553.],\n        [553., 553.],\n        [553., 553.]]], dtype=float32)"
     },
     "metadata": {},
     "execution_count": 27
    }
   ],
   "source": [
    "#All x's (x can be any number)\n",
    "np.full((2,3,2),553,dtype='float32')"
   ]
  },
  {
   "cell_type": "code",
   "execution_count": 28,
   "metadata": {},
   "outputs": [
    {
     "output_type": "execute_result",
     "data": {
      "text/plain": "array([[3, 3, 3, 3, 3, 3, 3],\n       [3, 3, 3, 3, 3, 3, 3]])"
     },
     "metadata": {},
     "execution_count": 28
    }
   ],
   "source": [
    "#Replace a existing array with  a number\n",
    "np.full(a.shape,3)"
   ]
  },
  {
   "cell_type": "code",
   "execution_count": 29,
   "metadata": {},
   "outputs": [
    {
     "output_type": "execute_result",
     "data": {
      "text/plain": "array([[0.2703174 , 0.73435487],\n       [0.36138748, 0.54734266],\n       [0.01215306, 0.73487124],\n       [0.13660354, 0.48471597]])"
     },
     "metadata": {},
     "execution_count": 29
    }
   ],
   "source": [
    "#Random decimal number\n",
    "np.random.rand(4,2)"
   ]
  },
  {
   "cell_type": "code",
   "execution_count": 30,
   "metadata": {},
   "outputs": [
    {
     "output_type": "execute_result",
     "data": {
      "text/plain": "array([[0.87737321, 0.93023764, 0.1599989 , 0.79968663],\n       [0.18282769, 0.53211451, 0.49987671, 0.56176357]])"
     },
     "metadata": {},
     "execution_count": 30
    }
   ],
   "source": [
    "#Replace existing array with a random number\n",
    "np.random.random_sample(b.shape)"
   ]
  },
  {
   "cell_type": "code",
   "execution_count": 31,
   "metadata": {},
   "outputs": [
    {
     "output_type": "execute_result",
     "data": {
      "text/plain": "array([[-4,  8, -1],\n       [ 1,  0, -6],\n       [ 7, -8, -4]])"
     },
     "metadata": {},
     "execution_count": 31
    }
   ],
   "source": [
    "#Random integer values\n",
    "np.random.randint(-10,10,size=(3,3))"
   ]
  },
  {
   "cell_type": "code",
   "execution_count": 32,
   "metadata": {},
   "outputs": [
    {
     "output_type": "execute_result",
     "data": {
      "text/plain": "array([[1., 0., 0., 0., 0., 0.],\n       [0., 1., 0., 0., 0., 0.],\n       [0., 0., 1., 0., 0., 0.],\n       [0., 0., 0., 1., 0., 0.],\n       [0., 0., 0., 0., 1., 0.],\n       [0., 0., 0., 0., 0., 1.]])"
     },
     "metadata": {},
     "execution_count": 32
    }
   ],
   "source": [
    "#Identity Matrix\n",
    "np.identity(6)"
   ]
  },
  {
   "cell_type": "code",
   "execution_count": 33,
   "metadata": {},
   "outputs": [
    {
     "output_type": "stream",
     "name": "stdout",
     "text": "[[1 2 3]\n [1 2 3]\n [1 2 3]]\n\n[[1 1 1 2 2 2 3 3 3]]\n"
    }
   ],
   "source": [
    "arr=np.array([[1,2,3]])\n",
    "a1=np.repeat(arr,3,axis=0)\n",
    "a2=np.repeat(arr,3,axis=1)\n",
    "print(a1)\n",
    "print('')\n",
    "print(a2)"
   ]
  },
  {
   "cell_type": "markdown",
   "metadata": {},
   "source": [
    "# Assignment 1:\n",
    "## Make this array without explicitly assigning the value to each element\n",
    "### [1 1 1 1 1]\n",
    "### [1 0 0 0 1]\n",
    "### [1 0 9 0 1]\n",
    "### [1 0 0 0 1]\n",
    "### [1 1 1 1 1]"
   ]
  },
  {
   "cell_type": "code",
   "execution_count": 34,
   "metadata": {},
   "outputs": [
    {
     "output_type": "stream",
     "name": "stdout",
     "text": "[[1 1 1 1 1]\n [1 0 0 0 1]\n [1 0 9 0 1]\n [1 0 0 0 1]\n [1 1 1 1 1]]\n"
    }
   ],
   "source": [
    "#Solution\n",
    "new=np.ones((5,5),dtype='int32')\n",
    "rep=np.zeros((3,3), dtype='int32')\n",
    "rep[1,1]=9\n",
    "new[1:4,1:4]=rep\n",
    "print(new)"
   ]
  },
  {
   "cell_type": "code",
   "execution_count": 35,
   "metadata": {},
   "outputs": [
    {
     "output_type": "stream",
     "name": "stdout",
     "text": "[1 2 3]\n[1 2 3]\n[-9999     2     3]\n[-9999     2     3]\n"
    }
   ],
   "source": [
    "#Be careful when copying arrays\n",
    "a=np.array([1,2,3])\n",
    "b=a\n",
    "print(a)\n",
    "print(b)\n",
    "b[0]=-9999\n",
    "print(a)\n",
    "print(b)\n",
    "#Here the reference points to the real array and thus the change occurs in both the arrays"
   ]
  },
  {
   "cell_type": "code",
   "execution_count": 36,
   "metadata": {},
   "outputs": [
    {
     "output_type": "stream",
     "name": "stdout",
     "text": "[1 2 3]\n[1 2 3]\n[1 2 3]\n[-9999     2     3]\n"
    }
   ],
   "source": [
    "a=np.array([1,2,3])\n",
    "b=a.copy()\n",
    "print(a)\n",
    "print(b)\n",
    "b[0]=-9999\n",
    "print(a)\n",
    "print(b)\n",
    "#Here only value in array b is changed"
   ]
  },
  {
   "cell_type": "markdown",
   "metadata": {},
   "source": [
    "# Mathematics"
   ]
  },
  {
   "cell_type": "code",
   "execution_count": 37,
   "metadata": {},
   "outputs": [
    {
     "output_type": "stream",
     "name": "stdout",
     "text": "[1 2 3 4]\n"
    }
   ],
   "source": [
    "m=np.array([1,2,3,4])\n",
    "print(m)"
   ]
  },
  {
   "cell_type": "code",
   "execution_count": 38,
   "metadata": {},
   "outputs": [
    {
     "output_type": "execute_result",
     "data": {
      "text/plain": "array([3, 4, 5, 6])"
     },
     "metadata": {},
     "execution_count": 38
    }
   ],
   "source": [
    "m+2"
   ]
  },
  {
   "cell_type": "code",
   "execution_count": 39,
   "metadata": {},
   "outputs": [
    {
     "output_type": "execute_result",
     "data": {
      "text/plain": "array([-1,  0,  1,  2])"
     },
     "metadata": {},
     "execution_count": 39
    }
   ],
   "source": [
    "m-2"
   ]
  },
  {
   "cell_type": "code",
   "execution_count": 40,
   "metadata": {},
   "outputs": [
    {
     "output_type": "execute_result",
     "data": {
      "text/plain": "array([0.5, 1. , 1.5, 2. ])"
     },
     "metadata": {},
     "execution_count": 40
    }
   ],
   "source": [
    "m/2"
   ]
  },
  {
   "cell_type": "code",
   "execution_count": 41,
   "metadata": {},
   "outputs": [
    {
     "output_type": "execute_result",
     "data": {
      "text/plain": "array([2, 2, 4, 4])"
     },
     "metadata": {},
     "execution_count": 41
    }
   ],
   "source": [
    "n=np.array([1,0,1,0])\n",
    "m+n"
   ]
  },
  {
   "cell_type": "code",
   "execution_count": 42,
   "metadata": {},
   "outputs": [
    {
     "output_type": "execute_result",
     "data": {
      "text/plain": "array([ 1,  4,  9, 16], dtype=int32)"
     },
     "metadata": {},
     "execution_count": 42
    }
   ],
   "source": [
    "m**2"
   ]
  },
  {
   "cell_type": "code",
   "execution_count": 43,
   "metadata": {},
   "outputs": [
    {
     "output_type": "execute_result",
     "data": {
      "text/plain": "array([ 0.84147098,  0.90929743,  0.14112001, -0.7568025 ])"
     },
     "metadata": {},
     "execution_count": 43
    }
   ],
   "source": [
    "#Taking the sine\n",
    "np.sin(m)"
   ]
  },
  {
   "cell_type": "code",
   "execution_count": 44,
   "metadata": {},
   "outputs": [
    {
     "output_type": "execute_result",
     "data": {
      "text/plain": "array([0.54030231, 1.        , 0.54030231, 1.        ])"
     },
     "metadata": {},
     "execution_count": 44
    }
   ],
   "source": [
    "#Taking cosine\n",
    "np.cos(n)"
   ]
  },
  {
   "cell_type": "markdown",
   "metadata": {},
   "source": [
    "# Linear Algebra"
   ]
  },
  {
   "cell_type": "markdown",
   "metadata": {},
   "source": [
    "# Reference documentations\n",
    "[Click here to go](https://docs.scipy.org/doc/numpy/reference/routines.linalg.html)\n",
    "## What you can perform?\n",
    "### Determinant\n",
    "### Trace\n",
    "### Singular Vector Decomposition\n",
    "### Eigenvalues\n",
    "### Matrix Norm\n",
    "### Inverse\n",
    "### Etc..\n"
   ]
  },
  {
   "cell_type": "code",
   "execution_count": 45,
   "metadata": {},
   "outputs": [
    {
     "output_type": "stream",
     "name": "stdout",
     "text": "[[1 1 1]\n [1 1 1]]\n"
    }
   ],
   "source": [
    "a=np.full((2,3),1)\n",
    "print(a)"
   ]
  },
  {
   "cell_type": "code",
   "execution_count": 46,
   "metadata": {},
   "outputs": [
    {
     "output_type": "stream",
     "name": "stdout",
     "text": "[[2 2]\n [2 2]\n [2 2]]\n"
    }
   ],
   "source": [
    "b=np.full((3,2),2)\n",
    "print(b)"
   ]
  },
  {
   "cell_type": "code",
   "execution_count": 47,
   "metadata": {},
   "outputs": [
    {
     "output_type": "execute_result",
     "data": {
      "text/plain": "array([[6, 6],\n       [6, 6]])"
     },
     "metadata": {},
     "execution_count": 47
    }
   ],
   "source": [
    "#Mu]atrix Multiplication\n",
    "np.matmul(a,b)"
   ]
  },
  {
   "cell_type": "code",
   "execution_count": 48,
   "metadata": {},
   "outputs": [
    {
     "output_type": "execute_result",
     "data": {
      "text/plain": "1.0"
     },
     "metadata": {},
     "execution_count": 48
    }
   ],
   "source": [
    "#Find the determinant\n",
    "c=np.identity(3)\n",
    "np.linalg.det(c)"
   ]
  },
  {
   "cell_type": "markdown",
   "metadata": {},
   "source": [
    "# Statistics\n"
   ]
  },
  {
   "cell_type": "code",
   "execution_count": 49,
   "metadata": {},
   "outputs": [
    {
     "output_type": "execute_result",
     "data": {
      "text/plain": "array([[1, 2, 3],\n       [4, 5, 6]])"
     },
     "metadata": {},
     "execution_count": 49
    }
   ],
   "source": [
    "stats=np.array([[1,2,3],[4,5,6]])\n",
    "stats"
   ]
  },
  {
   "cell_type": "code",
   "execution_count": 50,
   "metadata": {},
   "outputs": [
    {
     "output_type": "execute_result",
     "data": {
      "text/plain": "array([1, 2, 3])"
     },
     "metadata": {},
     "execution_count": 50
    }
   ],
   "source": [
    "np.min(stats,axis=0)"
   ]
  },
  {
   "cell_type": "code",
   "execution_count": 51,
   "metadata": {},
   "outputs": [
    {
     "output_type": "execute_result",
     "data": {
      "text/plain": "array([5, 7, 9])"
     },
     "metadata": {},
     "execution_count": 51
    }
   ],
   "source": [
    "np.sum(stats,axis=0)"
   ]
  },
  {
   "cell_type": "markdown",
   "metadata": {},
   "source": [
    "# Reorganizing Arrays"
   ]
  },
  {
   "cell_type": "code",
   "execution_count": 52,
   "metadata": {},
   "outputs": [
    {
     "output_type": "stream",
     "name": "stdout",
     "text": "[[1 2 3 4]\n [5 6 7 8]]\n[[[1 2]\n  [3 4]]\n\n [[5 6]\n  [7 8]]]\n"
    }
   ],
   "source": [
    "before=np.array([[1,2,3,4],[5,6,7,8]])\n",
    "print(before)\n",
    "after=before.reshape(2,2,2)\n",
    "print(after)"
   ]
  },
  {
   "cell_type": "code",
   "execution_count": 53,
   "metadata": {},
   "outputs": [
    {
     "output_type": "execute_result",
     "data": {
      "text/plain": "array([[1, 2, 3, 4],\n       [5, 6, 7, 8],\n       [1, 2, 3, 4],\n       [5, 6, 7, 8]])"
     },
     "metadata": {},
     "execution_count": 53
    }
   ],
   "source": [
    "#Vertical Stacking Vectors\n",
    "v1=np.array([1,2,3,4])\n",
    "v2=np.array([5,6,7,8])\n",
    "np.vstack([v1,v2,v1,v2])"
   ]
  },
  {
   "cell_type": "code",
   "execution_count": 54,
   "metadata": {},
   "outputs": [
    {
     "output_type": "execute_result",
     "data": {
      "text/plain": "array([[1., 1., 1., 1., 1., 1., 0., 0., 0., 0.],\n       [1., 1., 1., 1., 1., 1., 0., 0., 0., 0.]])"
     },
     "metadata": {},
     "execution_count": 54
    }
   ],
   "source": [
    "#Horizontal Stacking Vectors\n",
    "h1=np.ones([2,6])\n",
    "h2=np.zeros([2,4])\n",
    "np.hstack([h1,h2])"
   ]
  },
  {
   "cell_type": "markdown",
   "metadata": {},
   "source": [
    "# Miscellaneous"
   ]
  },
  {
   "cell_type": "code",
   "execution_count": 55,
   "metadata": {},
   "outputs": [
    {
     "output_type": "execute_result",
     "data": {
      "text/plain": "array([[ 1,  2,  3,  4,  5],\n       [ 6,  7,  8,  9, 10],\n       [11, 12, 13, 14, 15],\n       [16, 17, 18, 19, 20]])"
     },
     "metadata": {},
     "execution_count": 55
    }
   ],
   "source": [
    "file_data=np.genfromtxt('data_numpy.ipynb.txt',delimiter=',')\n",
    "file_data=file_data.astype('int32')\n",
    "file_data"
   ]
  },
  {
   "cell_type": "markdown",
   "metadata": {},
   "source": [
    "# Boolean Masking & Advanced Indexing"
   ]
  },
  {
   "cell_type": "code",
   "execution_count": 56,
   "metadata": {},
   "outputs": [
    {
     "output_type": "execute_result",
     "data": {
      "text/plain": "array([[False, False, False, False, False],\n       [False, False, False, False, False],\n       [ True,  True,  True,  True,  True],\n       [ True,  True,  True,  True,  True]])"
     },
     "metadata": {},
     "execution_count": 56
    }
   ],
   "source": [
    "file_data>10\n",
    "#Finds out whether the condition is satisfied or not"
   ]
  },
  {
   "cell_type": "code",
   "execution_count": 57,
   "metadata": {},
   "outputs": [
    {
     "output_type": "execute_result",
     "data": {
      "text/plain": "array([11, 12, 13, 14, 15, 16, 17, 18, 19, 20])"
     },
     "metadata": {},
     "execution_count": 57
    }
   ],
   "source": [
    "file_data[file_data>10]\n",
    "#Finds out and prints a list of those values that are satisfying the conditions"
   ]
  },
  {
   "cell_type": "code",
   "execution_count": 58,
   "metadata": {},
   "outputs": [
    {
     "output_type": "execute_result",
     "data": {
      "text/plain": "array([2, 3, 9])"
     },
     "metadata": {},
     "execution_count": 58
    }
   ],
   "source": [
    "#Indexing a list with NumPy\n",
    "a=np.array([1,2,3,4,5,6,7,8,9])\n",
    "a[[1,2,8]]"
   ]
  },
  {
   "cell_type": "code",
   "execution_count": 59,
   "metadata": {},
   "outputs": [
    {
     "output_type": "stream",
     "name": "stdout",
     "text": "[ True  True  True  True  True]\n[False False  True  True]\n"
    }
   ],
   "source": [
    "print(np.any(file_data>10, axis=0)) \n",
    "#Whether any number is greater than 10 columnwise\n",
    "print(np.any(file_data>10, axis=1)) \n",
    "#Whether any number is greater than 10 rowwise\n",
    "#Axis=0:Column\n",
    "#Axis=1:Row\n"
   ]
  },
  {
   "cell_type": "code",
   "execution_count": 60,
   "metadata": {},
   "outputs": [
    {
     "output_type": "execute_result",
     "data": {
      "text/plain": "array([False, False,  True,  True])"
     },
     "metadata": {},
     "execution_count": 60
    }
   ],
   "source": [
    "np.all(file_data>10,axis=1)\n",
    "#Rowwise, the third and last row have all data greater than 10"
   ]
  },
  {
   "cell_type": "code",
   "execution_count": 61,
   "metadata": {},
   "outputs": [
    {
     "output_type": "execute_result",
     "data": {
      "text/plain": "array([[False, False, False, False, False],\n       [False, False, False, False, False],\n       [ True,  True,  True,  True, False],\n       [False, False, False, False, False]])"
     },
     "metadata": {},
     "execution_count": 61
    }
   ],
   "source": [
    "((file_data>10) & (file_data<15))"
   ]
  },
  {
   "cell_type": "code",
   "execution_count": 62,
   "metadata": {},
   "outputs": [
    {
     "output_type": "execute_result",
     "data": {
      "text/plain": "array([[ True,  True,  True,  True,  True],\n       [ True,  True,  True,  True,  True],\n       [False, False, False, False, False],\n       [False, False, False, False, False]])"
     },
     "metadata": {},
     "execution_count": 62
    }
   ],
   "source": [
    "(~(file_data>10) & (file_data<15))"
   ]
  },
  {
   "cell_type": "markdown",
   "metadata": {},
   "source": [
    "# Assignment 2:\n",
    "## In a 5*6 matrix with natural numbers, how will you index the numbers:\n",
    "## A:11,12,16,17\n",
    "-----------\n",
    "## B:2,8,14,20"
   ]
  },
  {
   "cell_type": "code",
   "execution_count": 63,
   "metadata": {},
   "outputs": [
    {
     "output_type": "execute_result",
     "data": {
      "text/plain": "array([[ 1,  2,  3,  4,  5],\n       [ 6,  7,  8,  9, 10],\n       [11, 12, 13, 14, 15],\n       [16, 17, 18, 19, 20],\n       [21, 22, 23, 24, 25],\n       [26, 27, 28, 29, 30]])"
     },
     "metadata": {},
     "execution_count": 63
    }
   ],
   "source": [
    "a=np.array([[1,2,3,4,5],[6,7,8,9,10],[11,12,13,14,15],[16,17,18,19,20],[21,22,23,24,25],[26,27,28,29,30]])\n",
    "a"
   ]
  },
  {
   "cell_type": "code",
   "execution_count": 64,
   "metadata": {},
   "outputs": [
    {
     "output_type": "execute_result",
     "data": {
      "text/plain": "array([[11, 12],\n       [16, 17]])"
     },
     "metadata": {},
     "execution_count": 64
    }
   ],
   "source": [
    "#Solution A:\n",
    "a[2:4,0:2]"
   ]
  },
  {
   "cell_type": "code",
   "execution_count": 65,
   "metadata": {},
   "outputs": [
    {
     "output_type": "execute_result",
     "data": {
      "text/plain": "array([ 2,  8, 14, 20])"
     },
     "metadata": {},
     "execution_count": 65
    }
   ],
   "source": [
    "#Solution B:\n",
    "a[[0,1,2,3],[1,2,3,4]]"
   ]
  },
  {
   "cell_type": "code",
   "execution_count": 66,
   "metadata": {},
   "outputs": [
    {
     "output_type": "execute_result",
     "data": {
      "text/plain": "array([[ 4,  5],\n       [24, 25],\n       [29, 30]])"
     },
     "metadata": {},
     "execution_count": 66
    }
   ],
   "source": [
    "a[[0,4,5],3:]"
   ]
  },
  {
   "cell_type": "code",
   "execution_count": null,
   "metadata": {},
   "outputs": [],
   "source": []
  }
 ],
 "metadata": {
  "file_extension": ".py",
  "kernelspec": {
   "display_name": "Python 3.8.2 64-bit",
   "language": "python",
   "name": "python38264bit3d15c6926d934a5e98310858fe52ace9"
  },
  "language_info": {
   "codemirror_mode": {
    "name": "ipython",
    "version": 3
   },
   "file_extension": ".py",
   "mimetype": "text/x-python",
   "name": "python",
   "nbconvert_exporter": "python",
   "pygments_lexer": "ipython3",
   "version": "3.8.2-final"
  },
  "mimetype": "text/x-python",
  "name": "python",
  "npconvert_exporter": "python",
  "pygments_lexer": "ipython3",
  "version": 3
 },
 "nbformat": 4,
 "nbformat_minor": 4
}